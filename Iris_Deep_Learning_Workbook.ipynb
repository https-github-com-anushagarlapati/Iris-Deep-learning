{
 "cells": [
  {
   "cell_type": "code",
   "execution_count": 1,
   "metadata": {
    "colab": {},
    "colab_type": "code",
    "id": "IY_lHI7QOECs"
   },
   "outputs": [],
   "source": [
    "# Import the necessary Libraries\n",
    "import torch\n",
    "import pandas as pd\n",
    "from torchvision import transforms, utils\n",
    "from torch.autograd import Variable\n",
    "import torch.utils.data as data_utils\n",
    "import numpy as np\n",
    "import matplotlib.pyplot as graph\n",
    "from sklearn import preprocessing\n",
    "from sklearn.model_selection import train_test_split"
   ]
  },
  {
   "cell_type": "code",
   "execution_count": null,
   "metadata": {
    "colab": {
     "base_uri": "https://localhost:8080/",
     "height": 197
    },
    "colab_type": "code",
    "id": "fgUtmB7eOcHW",
    "outputId": "e268e4cd-e0fa-4bc5-ddc8-8af8c8a50689"
   },
   "outputs": [],
   "source": [
    "# Load the dataset\n",
    "\n",
    "\n"
   ]
  },
  {
   "cell_type": "code",
   "execution_count": null,
   "metadata": {
    "colab": {
     "base_uri": "https://localhost:8080/",
     "height": 197
    },
    "colab_type": "code",
    "id": "1SkptjgxOmWx",
    "outputId": "2c6fdb99-e1d9-4268-afbb-dd246823a5c5"
   },
   "outputs": [],
   "source": [
    "# Convert the categorical label to Numerical\n",
    "# Define the Label Encoder\n",
    "le = preprocessing.LabelEncoder()\n",
    "labels = list(iris_df[\"Species\"].unique())\n",
    "le.fit(labels)\n",
    "iris_df[\"Species\"] = le.transform(iris_df[\"Species\"])\n",
    "iris_df.head()"
   ]
  },
  {
   "cell_type": "code",
   "execution_count": null,
   "metadata": {
    "colab": {},
    "colab_type": "code",
    "id": "j7F_nLO1PJzK"
   },
   "outputs": [],
   "source": [
    "# Seperate the features and labels seperate\n",
    "\n",
    "\n",
    "\n"
   ]
  },
  {
   "cell_type": "code",
   "execution_count": null,
   "metadata": {
    "colab": {},
    "colab_type": "code",
    "id": "U14ZjONCQrj3"
   },
   "outputs": [],
   "source": [
    "# Split into train and test\n",
    "train_feat , test_feat, train_label, test_label = train_test_split(iris_features, iris_labels, test_size=0.20, random_state=42)"
   ]
  },
  {
   "cell_type": "code",
   "execution_count": null,
   "metadata": {
    "colab": {},
    "colab_type": "code",
    "id": "8GbMIEfZRVr7"
   },
   "outputs": [],
   "source": [
    "# Convert the train into tensors and load as Dataloaders\n",
    "\n",
    "\n",
    "\n",
    "\n",
    "\n",
    "\n",
    "\n"
   ]
  },
  {
   "cell_type": "code",
   "execution_count": null,
   "metadata": {
    "colab": {},
    "colab_type": "code",
    "id": "ecpGhQ_RR3zv"
   },
   "outputs": [],
   "source": [
    "# Convert the test into tensors and load as Dataloaders\n",
    "\n",
    "\n",
    "\n",
    "\n",
    "\n",
    "\n",
    "\n"
   ]
  },
  {
   "cell_type": "code",
   "execution_count": null,
   "metadata": {
    "colab": {},
    "colab_type": "code",
    "id": "mD75CAwGSozv"
   },
   "outputs": [],
   "source": [
    "# Define the neural Network\n",
    "\n",
    "\n",
    "\n",
    "\n",
    "\n",
    "\n",
    "\n",
    "\n",
    "\n",
    "\n"
   ]
  },
  {
   "cell_type": "code",
   "execution_count": null,
   "metadata": {
    "colab": {},
    "colab_type": "code",
    "id": "3zKS-aqTS8Vy"
   },
   "outputs": [],
   "source": [
    "# Declare the model and its hyperparameters\n",
    "#Specifying the no of neurons in every layer\n",
    "\n",
    "\n",
    "#Defining the loss function for the model\n",
    "\n",
    "\n",
    "#defining the learning rate\n",
    "\n",
    "\n",
    "#defining the optimizer \n",
    "\n"
   ]
  },
  {
   "cell_type": "code",
   "execution_count": null,
   "metadata": {
    "colab": {},
    "colab_type": "code",
    "id": "dLTNsxXlTdc8"
   },
   "outputs": [],
   "source": [
    "# Some utility variables\n",
    "no_of_epoch = 20\n",
    "\n",
    "training_loss=[]\n",
    "training_accuracy=[]\n",
    "testing_loss=[]\n",
    "testing_accuracy=[]\n",
    "epoch_list=[]"
   ]
  },
  {
   "cell_type": "code",
   "execution_count": null,
   "metadata": {
    "colab": {
     "base_uri": "https://localhost:8080/",
     "height": 1000
    },
    "colab_type": "code",
    "id": "ty15r_X6T0I-",
    "outputId": "50d3de06-d551-4578-ee89-1c97c8d081aa"
   },
   "outputs": [],
   "source": [
    "# training script\n",
    "\n",
    "\n",
    "\n",
    "\n",
    "\n",
    "\n",
    "\n",
    "\n",
    "\n",
    "\n",
    "\n",
    "\n",
    "\n",
    "\n",
    "\n",
    "\n",
    "\n",
    "\n",
    "\n",
    "\n",
    "\n",
    "\n",
    "\n",
    "\n",
    "\n",
    "\n",
    "\n",
    "\n",
    "\n",
    "\n",
    "\n",
    "\n"
   ]
  },
  {
   "cell_type": "code",
   "execution_count": null,
   "metadata": {
    "colab": {},
    "colab_type": "code",
    "id": "xhZs4UKTUqlb"
   },
   "outputs": [],
   "source": []
  }
 ],
 "metadata": {
  "colab": {
   "collapsed_sections": [],
   "name": "Iris_Deep_Learning_Workbook.ipynb",
   "provenance": []
  },
  "kernelspec": {
   "display_name": "Python 3",
   "language": "python",
   "name": "python3"
  },
  "language_info": {
   "codemirror_mode": {
    "name": "ipython",
    "version": 3
   },
   "file_extension": ".py",
   "mimetype": "text/x-python",
   "name": "python",
   "nbconvert_exporter": "python",
   "pygments_lexer": "ipython3",
   "version": "3.7.3"
  }
 },
 "nbformat": 4,
 "nbformat_minor": 1
}
